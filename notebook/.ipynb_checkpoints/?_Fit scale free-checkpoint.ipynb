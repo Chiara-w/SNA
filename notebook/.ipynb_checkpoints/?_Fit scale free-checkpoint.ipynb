{
 "cells": [
  {
   "cell_type": "code",
   "execution_count": 1,
   "metadata": {
    "id": "dYng-rXtXwYn"
   },
   "outputs": [],
   "source": [
    "import networkx as nx\n",
    "import pandas as pd\n",
    "import seaborn as sns\n",
    "import matplotlib.pyplot as plt\n",
    "import warnings\n",
    "import json\n",
    "import numpy as np\n",
    "import powerlaw\n",
    "import math"
   ]
  },
  {
   "cell_type": "code",
   "execution_count": 2,
   "metadata": {
    "id": "1e0nYxMNXwYr"
   },
   "outputs": [
    {
     "data": {
      "text/html": [
       "<style type=\"text/css\">\n",
       "h1 {\n",
       "    color:#000;\n",
       "    font: 0 sans-serif;\n",
       "    border-top: 5px solid #CFB4A6;\n",
       "    padding-top: 10px;\n",
       "    \n",
       "}\n",
       "table {\n",
       "    float:left\n",
       "}\n",
       "</style>\n"
      ],
      "text/plain": [
       "<IPython.core.display.HTML object>"
      ]
     },
     "metadata": {},
     "output_type": "display_data"
    }
   ],
   "source": [
    "%run Utilyties.ipynb"
   ]
  },
  {
   "cell_type": "code",
   "execution_count": 3,
   "metadata": {
    "id": "W1fuWLbdXwYs"
   },
   "outputs": [
    {
     "name": "stdout",
     "output_type": "stream",
     "text": [
      "Alcune informazioni iniziali sui dati sono:\n",
      "* TOT Retweet =  29863\n",
      "* TOT Quote =  1187\n",
      "* TOT Mentions =  57896\n",
      "* TOT Reply =  3000\n",
      "\n",
      "\n"
     ]
    }
   ],
   "source": [
    "data = read_data('../data/final/data_complete.json')\n",
    "\n",
    "G = init_network(data)"
   ]
  },
  {
   "cell_type": "code",
   "execution_count": 4,
   "metadata": {
    "id": "Sz8o3jVWXwYt"
   },
   "outputs": [
    {
     "name": "stdout",
     "output_type": "stream",
     "text": [
      "16675\n",
      "52373\n"
     ]
    }
   ],
   "source": [
    "print(G.number_of_nodes())\n",
    "print(G.number_of_edges())"
   ]
  },
  {
   "cell_type": "code",
   "execution_count": 5,
   "metadata": {
    "id": "GLqFf50QXwYu"
   },
   "outputs": [
    {
     "name": "stdout",
     "output_type": "stream",
     "text": [
      "La rete G ha:\n",
      "\n",
      "* Numero di nodi =  16675\n",
      "* Numero di Edge =  52373\n"
     ]
    }
   ],
   "source": [
    "network_node_edge(G, 'G')"
   ]
  },
  {
   "cell_type": "code",
   "execution_count": 6,
   "metadata": {
    "id": "Fw-JxYdlXwYv"
   },
   "outputs": [
    {
     "data": {
      "image/png": "[encoded data removed]",
      "text/plain": [
       "<Figure size 432x288 with 1 Axes>"
      ]
     },
     "metadata": {
      "needs_background": "light"
     },
     "output_type": "display_data"
    }
   ],
   "source": [
    "hist = nx.degree_histogram(G)\n",
    "#print(hist)\n",
    "plt.plot(range(0, len(hist)), hist, \".\")\n",
    "plt.title(\"Degree Distribution\")\n",
    "plt.xlabel(\"Degree\")\n",
    "plt.ylabel(\"#Nodes\")\n",
    "plt.loglog()\n",
    "plt.show()"
   ]
  },
  {
   "cell_type": "code",
   "execution_count": 7,
   "metadata": {
    "id": "03_6ArGPXwYw"
   },
   "outputs": [
    {
     "data": {
      "text/plain": [
       "array([6399, 3025, 2112, ...,    0,    0,    1])"
      ]
     },
     "execution_count": 7,
     "metadata": {},
     "output_type": "execute_result"
    }
   ],
   "source": [
    "Degree=[]\n",
    "n_nodes=[]\n",
    "\n",
    "i=1\n",
    "while i<len(hist):\n",
    "    n_nodes.append(hist[i])\n",
    "    Degree.append(i)\n",
    "    i+=1\n",
    "    \n",
    "np.asarray(Degree)\n",
    "np.asarray(n_nodes)"
   ]
  },
  {
   "cell_type": "code",
   "execution_count": 8,
   "metadata": {
    "id": "EMvHtbA7XwYx"
   },
   "outputs": [],
   "source": [
    "lung=len(Degree)\n",
    "Degree_1=[]\n",
    "n_nodes_1=[]\n",
    "i=0\n",
    "while (i<len(Degree)):\n",
    "    if (Degree[i]>=3 and Degree[i]<=19): #per prendere la retta\n",
    "        Degree_1.append(Degree[i])\n",
    "        n_nodes_1.append(n_nodes[i])\n",
    "    i+=1   "
   ]
  },
  {
   "cell_type": "code",
   "execution_count": 9,
   "metadata": {
    "id": "THyzHIMAXwYy"
   },
   "outputs": [],
   "source": [
    "i=0\n",
    "while(i<len(Degree_1)):\n",
    "    if(Degree[i]!=0):\n",
    "        Degree_1[i]=math.log(Degree_1[i])\n",
    "    if(n_nodes_1[i]!=0):\n",
    "        n_nodes_1[i]=math.log(n_nodes_1[i])\n",
    "    i+=1"
   ]
  },
  {
   "cell_type": "code",
   "execution_count": 10,
   "metadata": {
    "id": "78Adph0iXwY0"
   },
   "outputs": [],
   "source": [
    "x=Degree_1\n",
    "y=n_nodes_1"
   ]
  },
  {
   "cell_type": "code",
   "execution_count": 11,
   "metadata": {
    "id": "U9FPA-f1XwY1"
   },
   "outputs": [
    {
     "data": {
      "image/png": "[encoded data removed]",
      "text/plain": [
       "<Figure size 432x288 with 1 Axes>"
      ]
     },
     "metadata": {
      "needs_background": "light"
     },
     "output_type": "display_data"
    },
    {
     "name": "stdout",
     "output_type": "stream",
     "text": [
      "[0.04111596 0.09601721]\n",
      "-2.085858162223415 10.02690366805585\n"
     ]
    }
   ],
   "source": [
    "p,cov = np.polyfit(x,y,1,cov=True)\n",
    "plt.plot(x,y,'o')\n",
    "plt.plot(x,np.polyval(p,x),'r')\n",
    "plt.xlabel(\"log(Degree)\")\n",
    "plt.ylabel(\"log(#Nodes)\")\n",
    "plt.loglog()\n",
    "plt.show()\n",
    "\n",
    "print (np.sqrt(np.diag(cov)))\n",
    "print(p[0], p[1])"
   ]
  },
  {
   "cell_type": "code",
   "execution_count": 12,
   "metadata": {
    "id": "zIZpCL_qXwY1"
   },
   "outputs": [],
   "source": [
    "a=[]\n",
    "b=[]\n",
    "c=[]\n",
    "for i in range (len(x)):\n",
    "    a.append(math.e**x[i])\n",
    "    b.append(math.e**y[i])\n",
    "    c.append(math.e**p[1]/(a[i]**(-p[0])))"
   ]
  },
  {
   "cell_type": "code",
   "execution_count": 13,
   "metadata": {
    "id": "jcaIIu0oXwY2"
   },
   "outputs": [
    {
     "data": {
      "image/png": "[encoded data removed]",
      "text/plain": [
       "<Figure size 432x288 with 1 Axes>"
      ]
     },
     "metadata": {
      "needs_background": "light"
     },
     "output_type": "display_data"
    }
   ],
   "source": [
    "plt.plot(a,b, 'bo')\n",
    "plt.plot(a, c)\n",
    "plt.loglog()\n",
    "plt.show()"
   ]
  },
  {
   "cell_type": "code",
   "execution_count": 14,
   "metadata": {
    "id": "3iXIl6DXXwY2"
   },
   "outputs": [
    {
     "data": {
      "image/png": "[encoded data removed]",
      "text/plain": [
       "<Figure size 432x288 with 1 Axes>"
      ]
     },
     "metadata": {
      "needs_background": "light"
     },
     "output_type": "display_data"
    }
   ],
   "source": [
    "hist = nx.degree_histogram(G)\n",
    "#print(hist)\n",
    "plt.plot(range(0, len(hist)), hist, \".\")\n",
    "plt.plot(a, c, 'r')\n",
    "#plt.plot(Degree, math.e**10.026903668055844/(Degree[i]**(2.0858581622234134)),'r')\n",
    "plt.title(\"Degree Distribution\")\n",
    "plt.xlabel(\"Degree\")\n",
    "plt.ylabel(\"#Nodes\")\n",
    "plt.loglog()\n",
    "plt.show()"
   ]
  },
  {
   "cell_type": "code",
   "execution_count": 15,
   "metadata": {
    "id": "n4nWzf6NXwY3"
   },
   "outputs": [
    {
     "name": "stdout",
     "output_type": "stream",
     "text": [
      "0.008203799636315477\n",
      "15\n"
     ]
    }
   ],
   "source": [
    "chi_squared = np.sum((np.polyval(p, x) - y) ** 2)\n",
    "print(chi_squared/(len(x)-2))\n",
    "print(len(x)-2)"
   ]
  },
  {
   "cell_type": "code",
   "execution_count": null,
   "metadata": {
    "id": "JZasuzFrXwY3"
   },
   "outputs": [],
   "source": []
  }
 ],
 "metadata": {
  "colab": {
   "collapsed_sections": [],
   "name": "Fit scale free.ipynb",
   "provenance": []
  },
  "kernelspec": {
   "display_name": "Python 3",
   "language": "python",
   "name": "python3"
  },
  "language_info": {
   "codemirror_mode": {
    "name": "ipython",
    "version": 3
   },
   "file_extension": ".py",
   "mimetype": "text/x-python",
   "name": "python",
   "nbconvert_exporter": "python",
   "pygments_lexer": "ipython3",
   "version": "3.7.10"
  }
 },
 "nbformat": 4,
 "nbformat_minor": 1
}
