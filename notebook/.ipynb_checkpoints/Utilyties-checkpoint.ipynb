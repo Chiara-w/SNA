{
 "cells": [
  {
   "cell_type": "code",
   "execution_count": 1,
   "id": "active-parish",
   "metadata": {},
   "outputs": [
    {
     "data": {
      "text/html": [
       "<style type=\"text/css\">\n",
       "h1 {\n",
       "    color:#000;\n",
       "    font: 0 sans-serif;\n",
       "    border-top: 5px solid #CFB4A6;\n",
       "    padding-top: 10px;\n",
       "    \n",
       "}\n",
       "table {\n",
       "    float:left\n",
       "}\n",
       "</style>\n"
      ],
      "text/plain": [
       "<IPython.core.display.HTML object>"
      ]
     },
     "metadata": {},
     "output_type": "display_data"
    }
   ],
   "source": [
    "%%html\n",
    "<style type=\"text/css\">\n",
    "h1 {\n",
    "    color:#000;\n",
    "    font: 0 sans-serif;\n",
    "    border-top: 5px solid #CFB4A6;\n",
    "    padding-top: 10px;\n",
    "    \n",
    "}\n",
    "table {\n",
    "    float:left\n",
    "}\n",
    "</style>"
   ]
  },
  {
   "cell_type": "markdown",
   "id": "extensive-cutting",
   "metadata": {},
   "source": [
    "### Messaggio\n",
    "\n",
    "questa funzione stampa un messaggio per l'utente"
   ]
  },
  {
   "cell_type": "code",
   "execution_count": 2,
   "id": "configured-apartment",
   "metadata": {},
   "outputs": [],
   "source": [
    "def format_Warning(message, category, filename, lineno, line=''):\n",
    "    return str(message) + '\\n'\n"
   ]
  },
  {
   "cell_type": "markdown",
   "id": "valuable-handle",
   "metadata": {},
   "source": [
    "### Read data from file\n",
    "\n",
    "legge un json da un file e lo carica in `data`"
   ]
  },
  {
   "cell_type": "code",
   "execution_count": 3,
   "id": "guilty-lying",
   "metadata": {},
   "outputs": [],
   "source": [
    "def read_data(filename):\n",
    "    with open(filename) as json_file:\n",
    "        data = json.load(json_file)\n",
    "    return data"
   ]
  },
  {
   "cell_type": "markdown",
   "id": "literary-moderator",
   "metadata": {},
   "source": [
    "### Definizione del grado di conoscenza di un utente\n",
    "funzione che identifica un utente come vip, conosciuto, o semplice"
   ]
  },
  {
   "cell_type": "code",
   "execution_count": 5,
   "id": "homeless-longer",
   "metadata": {},
   "outputs": [],
   "source": [
    "def get_vip(followers):\n",
    "    if (followers > 200000):\n",
    "        return 2\n",
    "    elif (followers > 20000):\n",
    "        return 1\n",
    "    else:\n",
    "        return 0"
   ]
  },
  {
   "cell_type": "markdown",
   "id": "smaller-angola",
   "metadata": {},
   "source": [
    "# 1. Network utilities functions"
   ]
  },
  {
   "cell_type": "markdown",
   "id": "natural-worry",
   "metadata": {},
   "source": [
    "### 1.1 Inizializzazione di una rete\n",
    "\n",
    "####  >> `init_network(data)`\n",
    "\n",
    "---------------------------------\n",
    "\n",
    "- **data** = `([{tweet1},{tweet2}])` json dataset\n",
    "\n",
    "**Result** = inizializza il network di analisi"
   ]
  },
  {
   "cell_type": "code",
   "execution_count": 13,
   "id": "attended-roots",
   "metadata": {},
   "outputs": [],
   "source": [
    "def init_network(data):\n",
    "    G = nx.Graph()\n",
    "    build_network(data, G)\n",
    "    return G"
   ]
  },
  {
   "cell_type": "code",
   "execution_count": null,
   "id": "reflected-timothy",
   "metadata": {},
   "outputs": [],
   "source": [
    "def build_network(data, G):\n",
    "    users_without_tweet_reference = read_data(\"../data/final/user_followers.json\")\n",
    "    tot_RT = 0\n",
    "    tot_ME = 0\n",
    "    tot_QT = 0\n",
    "    tot_RE = 0\n",
    "    for tweet in data:\n",
    "        user = tweet['user']\n",
    "        retweets = tweet['retweets']\n",
    "        mentions = tweet['mentions']\n",
    "\n",
    "\n",
    "        if tweet['reply_to'] != \"\":\n",
    "            reply_to = tweet['reply_to']\n",
    "        else:\n",
    "            reply_to = []\n",
    "            \n",
    "        if tweet['quote_to'] != \"\":\n",
    "            quote_to = tweet['quote_to']\n",
    "        else:\n",
    "            quote_to = []\n",
    "            \n",
    "        print(\"1--\", retweets, mentions)\n",
    "            \n",
    "        mentions = [user for user in mentions if user not in retweets]\n",
    "        \n",
    "        print(\"2--\", retweets, mentions)\n",
    "            \n",
    "        _addEdge(user, retweets, 1, G, \"retweet\")\n",
    "        _addEdge(user, mentions, 5, G, \"mention\")\n",
    "        _addEdge(user, reply_to, 0.75, G, \"reply_to\")\n",
    "        _addEdge(user, quote_to, 1, G, \"quote_to\")\n",
    "        _addEdge(retweets, mentions, 0.375, G,\"mention\")\n",
    "        _addEdge(mentions, reply_to, 0.5, G, \"reply_to\")\n",
    "        _addEdge(mentions, quote_to, 0.375, G, \"quote_to\")\n",
    "\n",
    "        _addAttribute(user, tweet['user_classification'],tweet['vip'], G)\n",
    "\n",
    "        tot_RT += len(retweets)\n",
    "        tot_QT += len(quote_to)\n",
    "        tot_ME += len(mentions)\n",
    "        tot_RE += len(reply_to)\n",
    "    \n",
    "        \n",
    "    for node in list(G.nodes()):\n",
    "        if 'classification' not in G.nodes[node]:\n",
    "            G.nodes[node]['classification'] = 0\n",
    "            G.nodes[node]['vip'] = 0\n",
    "        for user in users_without_tweet_reference:\n",
    "            if user['user'] == node:\n",
    "                G.nodes[node]['classification'] = 0\n",
    "                G.nodes[node]['vip'] = get_vip(user['followers'])\n",
    "                \n",
    "    remove = [node for node,degree in dict(G.degree()).items() if degree == 0]\n",
    "    G.remove_nodes_from(remove)"
   ]
  },
  {
   "cell_type": "markdown",
   "id": "ignored-trinity",
   "metadata": {},
   "source": [
    "### 1.2 Creazione dei nodi e degli edge\n",
    "\n",
    "####  >> `_addEdge(t1, t2, w, G, types)`\n",
    "\n",
    "-------------------------------\n",
    "\n",
    "Questa funzione prende come parametri due valori (t1, t2) e un intero (w).\n",
    "- **t1** = `(list)` or `(string)`\n",
    "- **t2** = `(list)` or `(string)`\n",
    "- **w** = `(int)`\n",
    "- **G** = `(Networkx Graph)`\n",
    "- **types** = `(string)`\n",
    "\n",
    "I nodi (valori in t1 e t2) vengono collegati tra di loro (add_egde) e ad ogni edge viene asseganta una pesantezza (w) in base alla molteplice presenza di iterazioni tra due stessi nodi. La pesantezza è differente in base al tipo di rapporto tra i nodi.\n",
    "\n",
    "**Classificazione dei pesi**:\n",
    "\n",
    "\n",
    "| utente 1           | utente 2              | peso  |\n",
    "|:-------------------|:----------------------|:------|\n",
    "| utente del tweet   | utente retweettato    | 1     |\n",
    "| utente del tweet   | utente menzionato     | 1     |\n",
    "| utente del tweet   | utente a cui risponde | 0.75  |\n",
    "| utente del tweet   | utente citato         | 1     |\n",
    "| utente retweettato | utente menzionato     | 0.375 |\n",
    "| utente menzionato  | utente a cui risponde | 0.5   |\n",
    "| utente menzionato  | utente citato         | 0.375 |\n",
    "\n",
    "<br><br><br><br><br><br><br><br><br><br><br>\n",
    "\n",
    "**Result** = aggiunge gli edge alla rete"
   ]
  },
  {
   "cell_type": "code",
   "execution_count": null,
   "id": "welsh-possession",
   "metadata": {},
   "outputs": [],
   "source": [
    "def _addEdge(t1, t2, w, G, types):\n",
    "    if t1:\n",
    "        if isinstance(t1, list):\n",
    "            for x in t1:\n",
    "                for y in t2:\n",
    "                    if G.has_edge(x, y):\n",
    "                        G[x][y][\"weight\"] += w\n",
    "                    else:\n",
    "                        if x != y:\n",
    "                            G.add_edge(x, y, weight = w, interaction = types)\n",
    "        else:            \n",
    "            for x in t2:\n",
    "                if G.has_edge(t1, x):\n",
    "                        G[t1][x][\"weight\"] += w\n",
    "                else:\n",
    "                    if x != t1:\n",
    "                        G.add_edge(t1, x, weight = w, interaction = types)"
   ]
  },
  {
   "cell_type": "code",
   "execution_count": null,
   "id": "aerial-professor",
   "metadata": {},
   "outputs": [],
   "source": [
    "def _addAttribute(user, clss, vp, G):\n",
    "    G.add_node(user, classification = clss, vip = vp )"
   ]
  },
  {
   "cell_type": "markdown",
   "id": "instant-thirty",
   "metadata": {},
   "source": [
    "### 1.3 Numero dei nodi e degli edges nella rete\n",
    "\n",
    "#### >> `network_node_edge(G, name)`\n",
    "\n",
    "------------------------\n",
    "\n",
    "- **G** = `(NetworkX Graph)`\n",
    "- **name** = `(string)`\n",
    "\n",
    "**Result** = stampa il totale del numero dei nodi e degli edges della rete G"
   ]
  },
  {
   "cell_type": "code",
   "execution_count": null,
   "id": "driving-japanese",
   "metadata": {},
   "outputs": [],
   "source": [
    "def network_node_edge(G, name):\n",
    "    print(f\"La rete {name} ha:\\n\")\n",
    "    print(\"* Numero di nodi = \", G.number_of_nodes())\n",
    "    print(\"* Numero di Edge = \", G.number_of_edges())"
   ]
  },
  {
   "cell_type": "markdown",
   "id": "published-bible",
   "metadata": {},
   "source": [
    "### 1.4 Tutte le informazioni su una rete\n",
    "\n",
    "#### >> `network_info(G, name, multigrtaph=True)`\n",
    "\n",
    "------\n",
    " \n",
    "La funzione prende come paramteri:\n",
    "- **G** = `(NetworkX Graph)`\n",
    "- **name** = `(sting)` nome della rete\n",
    "- **multigraph** = `(Boolean)` parametro fisso\n",
    "\n",
    "**Result** = stampa tutte le informazioni su una rete:\n",
    "- Numero dei nodi;\n",
    "- Numero dei link;\n",
    "- Grado medio della rete;\n",
    "- Transitività;\n",
    "- Average Clusterign;\n",
    "- Numero di componenti connesse;\n",
    "- Diametro:\n",
    "- Densità;"
   ]
  },
  {
   "cell_type": "code",
   "execution_count": null,
   "id": "enormous-lease",
   "metadata": {},
   "outputs": [],
   "source": [
    "def network_info(G, name, multigraph=True):\n",
    "    N = G.number_of_nodes()\n",
    "    L = G.number_of_edges()\n",
    "    g_av_degree = sum(dict(G.degree()).values())/float(len(G)) #oppure 2*L/N (rete indiretta)\n",
    "    if multigraph: \n",
    "        g_transitivity = nx.transitivity(G) #the fraction of all possible triangles present in g\n",
    "        g_av_clustering = nx.average_clustering(G)\n",
    "    n_conn_comp = nx.number_connected_components(G)\n",
    "    gc_diam = nx.diameter(G.subgraph(sorted(nx.connected_components(G), key=len, reverse=True)[0]))\n",
    "    density = nx.density(G) #oppure (2*L)/(N*(N-1))\n",
    "    \n",
    "    if multigraph:\n",
    "        print(f\"Informazioni sulla rete {name}:\\n\",\n",
    "              f\"Numero di nodi: \\t{N}\\n\",\n",
    "              f\"Numero di link: \\t{L}\\n\\n\",\n",
    "              f\"Grado medio: \\t\\t{g_av_degree}\\n\",\n",
    "              f\"Transitività: \\t\\t{g_transitivity}\\n\",\n",
    "              f\"Average clustering: \\t{g_av_clustering}\\n\\n\",\n",
    "              f\"Numero di componenti connesse: \\t{n_conn_comp}\\n\",\n",
    "              f\"Diametro: \\t{gc_diam}\\n\\n\",\n",
    "              f\"Densità: \\t{density}\\n\")\n",
    "    else: \n",
    "        print(f\"Informazioni sulla rete {name}:\\n\",\n",
    "              f\"Numero di nodi: \\t{N}\\n\",\n",
    "              f\"Numero di link: \\t{L}\\n\\n\",\n",
    "              f\"Grado medio: \\t\\t{g_av_degree}\\n\",\n",
    "              f\"Transitività: \\t\\t-\\n\",\n",
    "              f\"Average clustering: \\t-\\n\\n\",\n",
    "              f\"Numero di componenti connesse: \\t{n_conn_comp}\\n\",\n",
    "              f\"Diametro: \\t{gc_diam}\\n\\n\",\n",
    "              f\"Densità: \\t{density}\\n\\n\")\n",
    "        \n",
    "    if nx.is_connected(G):\n",
    "        av_short_p = nx.average_shortest_path_length(G)\n",
    "        print(f\"Lunghezza media del cammino più breve {av_short_p}\")"
   ]
  },
  {
   "cell_type": "markdown",
   "id": "circular-incentive",
   "metadata": {},
   "source": [
    "### Top score\n",
    "\n",
    "#### >> `top_score_print(n, dict_centr, order)`\n",
    "\n",
    "- **n**= `(int)` \n",
    "- **dict_centr** = `(dict)`\n",
    "- **order** = `(boolean)`\n",
    "\n",
    "**Result**: stampa la serie di nodi associati alla propria degree ordinati in ordine crescente o decrescente.\n",
    "\n",
    "esempio output:\n",
    "- nodo13 4\n",
    "- nodo1  3\n",
    "- nodo4  3\n",
    "\n",
    "----"
   ]
  },
  {
   "cell_type": "code",
   "execution_count": null,
   "id": "selective-worst",
   "metadata": {},
   "outputs": [],
   "source": [
    "def top_score_print(n, dict_centr, order):\n",
    "    dict_ord = (dict(sorted(dict_centr.items(), key=lambda item: item[1], reverse=order)))\n",
    "    for i in dict(list(dict_ord.items())[0: n]) :\n",
    "        print(i,'\\t',dict_ord[i])"
   ]
  },
  {
   "cell_type": "markdown",
   "id": "exterior-pacific",
   "metadata": {},
   "source": [
    "# 2. Plotter Graphs Utilities Functions\n",
    "\n",
    "\n",
    "### 2.1 Plotter function\n",
    "\n",
    "#### >> `plot_dist(G)`\n",
    "\n",
    "---------\n",
    "\n",
    "- **G** = `(NetworkX Graph)`\n",
    "\n",
    "**Result** = stampa 3 grafici:\n",
    "\n",
    "- Il grafico **Plotter Scatter della distribuzione**\n",
    "- Il grafico **CDF**\n",
    "- Il grafico **CDF**"
   ]
  },
  {
   "cell_type": "code",
   "execution_count": null,
   "id": "impressive-switch",
   "metadata": {},
   "outputs": [],
   "source": [
    "def plot_dist(G):\n",
    "    xmin = min([d for n, d in G.degree()])\n",
    "    indegrees =sorted([d for n, d in G.degree()], reverse=True)\n",
    "    degree = np.bincount(indegrees)\n",
    "    fit = powerlaw.Fit(np.array(degree)+1, fit_method='KS', xmin=xmin, xmax=max(degree)-xmin,discrete=True)\n",
    "    degree\n",
    "    \n",
    "    fig = plt.figure(figsize=(15,4)) \n",
    "    \"\"\" Plot Distribution \"\"\"\n",
    "    plt.subplot(1, 3, 1)\n",
    "    plt.title(\"Degree Distribution\")\n",
    "    plt.plot(range(len(degree)),degree,'b.')   \n",
    "    plt.loglog()\n",
    "    #plt.xlim((min(degree), max(degree)))\n",
    "    plt.xlabel('Degree')\n",
    "    plt.ylabel('P(k) (#Nodes)')\n",
    "\n",
    "    \"\"\" Plot CDF \"\"\"\n",
    "    plt.subplot(1, 3, 2)\n",
    "    fit.plot_cdf()\n",
    "    plt.xlabel(\"Degree\")\n",
    "    plt.ylabel('CDF')\n",
    "\n",
    "    \"\"\" Plot CCDF \"\"\"\n",
    "    plt.subplot(1, 3, 3)\n",
    "    fit.plot_ccdf()\n",
    "    plt.ylabel('CCDF')\n",
    "    plt.xlabel('Degree')\n",
    "    plt.tight_layout()\n",
    "    plt.show()"
   ]
  },
  {
   "cell_type": "markdown",
   "id": "continent-polymer",
   "metadata": {},
   "source": [
    "# 3. Pesantezza dei link\n",
    "\n",
    "### 3.1 Funzione per la pesantezza dei link di una rete\n",
    "\n",
    "#### >> `edges_weight(G)`\n",
    "\n",
    "---\n",
    "\n",
    "- **G** = `(NetworkX Graph)`\n",
    "\n",
    "**Result** = quattro output:\n",
    "- **edges** = edges della rete `(nodo1 - nodo2)`\n",
    "- **weights** = `(list[int])` pesanzetta dell'edge\n",
    "- **edge_colors** = `(list[int])`"
   ]
  },
  {
   "cell_type": "code",
   "execution_count": null,
   "id": "amateur-sense",
   "metadata": {},
   "outputs": [],
   "source": [
    "def edges_weight(G):\n",
    "    edges,weights = zip(*nx.get_edge_attributes(G,'weight').items())\n",
    "    edge_colors = weights\n",
    "    if G.has_edge(\"perchetendenza\", \"porquetendencia\"):\n",
    "        print(\"eccolo!\")\n",
    "        G[\"perchetendenza\"][\"porquetendencia\"]['weight'] = 0\n",
    "    return edges, list(weights), edge_colors"
   ]
  },
  {
   "cell_type": "markdown",
   "id": "revised-wallet",
   "metadata": {},
   "source": [
    "### 3.2 Stampa edge e pesantezza\n",
    "\n",
    "#### >> `info_edges_weight(G, edges)`\n",
    "\n",
    "---\n",
    "\n",
    "- **G** = `(NetworkX Graph)`\n",
    "- **edges** = `list[(nodo1, nodo2)]`\n",
    "\n",
    "**Result** = stampa la lista degli edge e la loro pesantezza"
   ]
  },
  {
   "cell_type": "code",
   "execution_count": null,
   "id": "affected-substance",
   "metadata": {},
   "outputs": [],
   "source": [
    "def info_edges_weight(G, edges):\n",
    "    for u, v in edges:\n",
    "        if G[u][v]['weight']:\n",
    "            print(u,' ', v, ' ', G[u][v]['weight'])\n",
    "    "
   ]
  },
  {
   "cell_type": "markdown",
   "id": "collective-portal",
   "metadata": {},
   "source": [
    "# 4. Giant Component\n",
    "\n",
    "### Calcolo della giant component\n",
    "\n",
    "#### >> `giant_component(G)`\n",
    "\n",
    "---\n",
    "\n",
    "- **G** = `(NetworkX Graph)`\n",
    "\n",
    "**Result** = ritorna la giant component di G\n",
    "- **G0** = `(NetworkX Graph)`"
   ]
  },
  {
   "cell_type": "code",
   "execution_count": null,
   "id": "painted-strengthening",
   "metadata": {},
   "outputs": [],
   "source": [
    "def giant_component(G):\n",
    "    conn_comps = sorted(nx.connected_components(G), key=len, reverse=True) #elenco delle componenti connesse per dimensione\n",
    "    G0 = G.subgraph(conn_comps[0])\n",
    "    return G0"
   ]
  },
  {
   "cell_type": "markdown",
   "id": "complete-torture",
   "metadata": {},
   "source": [
    "# 5. Overlap\n",
    "\n",
    "### 5.1 Funzione per calcolare l'overlap\n",
    "\n",
    "#### >> `node_overlap(G)`\n",
    "\n",
    "---\n",
    "\n",
    "- **G** = `(NetworkX Graph)`\n",
    "\n",
    "**Result** = overlap"
   ]
  },
  {
   "cell_type": "code",
   "execution_count": null,
   "id": "square-virus",
   "metadata": {},
   "outputs": [],
   "source": [
    "def node_overlap(G):\n",
    "    for u, v in G.edges():\n",
    "        n_u = set(G.neighbors(u)) # set of u neighbors\n",
    "        n_v = set(G.neighbors(v)) # set of v neighbors\n",
    "        overlap = len(n_u & n_v) / len(n_u | n_v) # Neighborhood Overlap\n",
    "        G[u][v]['overlap'] = overlap\n",
    "    return G"
   ]
  },
  {
   "cell_type": "markdown",
   "id": "effective-kidney",
   "metadata": {},
   "source": [
    "# 6. Time splitting function\n",
    "\n",
    "### 6.1 Splitting della rete \n",
    "\n",
    "#### >> `get_snapshot(path, ranges)`\n",
    "\n",
    "---\n",
    "\n",
    "- **path** = `(string)` percorso del file json per i dati\n",
    "- **ranges** = `([(data0, data1),(data2, data3),...])` array di n-uple con le date per lo splitting\n",
    "\n",
    "**Result** = `([[{tweets_in_range_1}],[{}],...])` una lista di liste basate sui ranges"
   ]
  },
  {
   "cell_type": "code",
   "execution_count": null,
   "id": "serial-journey",
   "metadata": {},
   "outputs": [],
   "source": [
    "def get_snapshot(path, ranges):\n",
    "    with open(path) as json_file:\n",
    "        data = json.load(json_file)\n",
    "    range_snap = []\n",
    "    for r in ranges:\n",
    "        tweets_in_range = []\n",
    "        for tweet in data:\n",
    "            if tweet['date'].split(\"T\")[0] in  r:\n",
    "                tweets_in_range.append(tweet)\n",
    "                \n",
    "        range_snap.append(tweets_in_range)\n",
    "        \n",
    "    return range_snap"
   ]
  },
  {
   "cell_type": "code",
   "execution_count": null,
   "id": "bigger-transformation",
   "metadata": {},
   "outputs": [],
   "source": [
    "def format_coms(coms):\n",
    "    obj= {}\n",
    "    for key in coms:\n",
    "        if(coms[key] != None):\n",
    "            for c in coms[key]:\n",
    "                obj[c] = int(key.split(\"_\")[1])\n",
    "    return obj"
   ]
  }
 ],
 "metadata": {
  "interpreter": {
   "hash": "66b3e2fd3f45181390eec52825d6f63d319e1dfc034c5e0bfab24aa05acc1618"
  },
  "kernelspec": {
   "display_name": "Python 3 (ipykernel)",
   "language": "python",
   "name": "python3"
  },
  "language_info": {
   "codemirror_mode": {
    "name": "ipython",
    "version": 3
   },
   "file_extension": ".py",
   "mimetype": "text/x-python",
   "name": "python",
   "nbconvert_exporter": "python",
   "pygments_lexer": "ipython3",
   "version": "3.9.5"
  }
 },
 "nbformat": 4,
 "nbformat_minor": 5
}
